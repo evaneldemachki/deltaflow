{
 "cells": [
  {
   "cell_type": "code",
   "execution_count": 1,
   "metadata": {},
   "outputs": [],
   "source": [
    "import pandas\n",
    "import deltaflow"
   ]
  },
  {
   "cell_type": "code",
   "execution_count": 2,
   "metadata": {},
   "outputs": [
    {
     "data": {
      "text/html": [
       "<div>\n",
       "<style scoped>\n",
       "    .dataframe tbody tr th:only-of-type {\n",
       "        vertical-align: middle;\n",
       "    }\n",
       "\n",
       "    .dataframe tbody tr th {\n",
       "        vertical-align: top;\n",
       "    }\n",
       "\n",
       "    .dataframe thead th {\n",
       "        text-align: right;\n",
       "    }\n",
       "</style>\n",
       "<table border=\"1\" class=\"dataframe\">\n",
       "  <thead>\n",
       "    <tr style=\"text-align: right;\">\n",
       "      <th></th>\n",
       "      <th>symbol</th>\n",
       "      <th>last</th>\n",
       "      <th>change</th>\n",
       "      <th>rank</th>\n",
       "    </tr>\n",
       "  </thead>\n",
       "  <tbody>\n",
       "    <tr>\n",
       "      <th>0</th>\n",
       "      <td>REGN</td>\n",
       "      <td>496.50</td>\n",
       "      <td>8.34</td>\n",
       "      <td>1</td>\n",
       "    </tr>\n",
       "    <tr>\n",
       "      <th>1</th>\n",
       "      <td>INCY</td>\n",
       "      <td>74.18</td>\n",
       "      <td>0.95</td>\n",
       "      <td>4</td>\n",
       "    </tr>\n",
       "    <tr>\n",
       "      <th>2</th>\n",
       "      <td>TMUS</td>\n",
       "      <td>85.13</td>\n",
       "      <td>1.23</td>\n",
       "      <td>3</td>\n",
       "    </tr>\n",
       "    <tr>\n",
       "      <th>3</th>\n",
       "      <td>VRSK</td>\n",
       "      <td>140.78</td>\n",
       "      <td>1.40</td>\n",
       "      <td>2</td>\n",
       "    </tr>\n",
       "    <tr>\n",
       "      <th>4</th>\n",
       "      <td>JD</td>\n",
       "      <td>40.91</td>\n",
       "      <td>0.41</td>\n",
       "      <td>5</td>\n",
       "    </tr>\n",
       "  </tbody>\n",
       "</table>\n",
       "</div>"
      ],
      "text/plain": [
       "  symbol    last  change  rank\n",
       "0   REGN  496.50    8.34     1\n",
       "1   INCY   74.18    0.95     4\n",
       "2   TMUS   85.13    1.23     3\n",
       "3   VRSK  140.78    1.40     2\n",
       "4     JD   40.91    0.41     5"
      ]
     },
     "execution_count": 2,
     "metadata": {},
     "output_type": "execute_result"
    }
   ],
   "source": [
    "# Load dataset of 5 market leaders\n",
    "market_leaders = pandas.DataFrame({\n",
    "    'symbol': ['REGN','INCY','TMUS','VRSK','JD'],\n",
    "    'last': [496.5, 74.18, 85.13, 140.78, 40.91],\n",
    "    'change': [8.34, 0.95, 1.23, 1.4, 0.41],\n",
    "    'rank': [1, 4, 3, 2, 5]\n",
    "})\n",
    "market_leaders"
   ]
  },
  {
   "cell_type": "code",
   "execution_count": 3,
   "metadata": {},
   "outputs": [
    {
     "data": {
      "text/plain": [
       "deltaflow.Field('C:\\Users\\DeltaFlow\\Documents\\MyFolder')"
      ]
     },
     "execution_count": 3,
     "metadata": {},
     "output_type": "execute_result"
    }
   ],
   "source": [
    "# Create a new DeltaFlow field in current working directory\n",
    "deltaflow.touch()\n",
    "# Load field as Field object\n",
    "field = deltaflow.Field()\n",
    "field"
   ]
  },
  {
   "cell_type": "code",
   "execution_count": 4,
   "metadata": {},
   "outputs": [
    {
     "data": {
      "text/plain": [
       "leaders\n",
       "|- 21e694b44afa05a89922be03fa3291ab24153d1d"
      ]
     },
     "execution_count": 4,
     "metadata": {},
     "output_type": "execute_result"
    }
   ],
   "source": [
    "# Add dataset to field as an origin (saves data to field directory)\n",
    "field.add_origin(market_leaders, name='leaders')\n",
    "# Field tree now shows node ID referencing origin\n",
    "field.tree"
   ]
  },
  {
   "cell_type": "code",
   "execution_count": 5,
   "metadata": {},
   "outputs": [
    {
     "data": {
      "text/plain": [
       "ARROWS: {\n",
       "  .leaders -> 21e694b44afa05a89922be03fa3291ab24153d1d\n",
       "}"
      ]
     },
     "execution_count": 5,
     "metadata": {},
     "output_type": "execute_result"
    }
   ],
   "source": [
    "field.tree.arrows"
   ]
  },
  {
   "cell_type": "code",
   "execution_count": 6,
   "metadata": {},
   "outputs": [
    {
     "data": {
      "text/plain": [
       ".leaders -> 21e694b44afa05a89922be03fa3291ab24153d1d"
      ]
     },
     "execution_count": 6,
     "metadata": {},
     "output_type": "execute_result"
    }
   ],
   "source": [
    "# Load the master arrow (always the origin name prefixed with '.')\n",
    "arrow = field.arrow('.leaders')\n",
    "arrow"
   ]
  },
  {
   "cell_type": "code",
   "execution_count": 7,
   "metadata": {},
   "outputs": [
    {
     "data": {
      "text/html": [
       "<div>\n",
       "<style scoped>\n",
       "    .dataframe tbody tr th:only-of-type {\n",
       "        vertical-align: middle;\n",
       "    }\n",
       "\n",
       "    .dataframe tbody tr th {\n",
       "        vertical-align: top;\n",
       "    }\n",
       "\n",
       "    .dataframe thead th {\n",
       "        text-align: right;\n",
       "    }\n",
       "</style>\n",
       "<table border=\"1\" class=\"dataframe\">\n",
       "  <thead>\n",
       "    <tr style=\"text-align: right;\">\n",
       "      <th></th>\n",
       "      <th>symbol</th>\n",
       "      <th>last</th>\n",
       "      <th>change</th>\n",
       "      <th>rank</th>\n",
       "    </tr>\n",
       "  </thead>\n",
       "  <tbody>\n",
       "    <tr>\n",
       "      <th>0</th>\n",
       "      <td>REGN</td>\n",
       "      <td>496.50</td>\n",
       "      <td>8.34</td>\n",
       "      <td>1</td>\n",
       "    </tr>\n",
       "    <tr>\n",
       "      <th>1</th>\n",
       "      <td>INCY</td>\n",
       "      <td>74.18</td>\n",
       "      <td>0.95</td>\n",
       "      <td>4</td>\n",
       "    </tr>\n",
       "    <tr>\n",
       "      <th>2</th>\n",
       "      <td>TMUS</td>\n",
       "      <td>85.13</td>\n",
       "      <td>1.23</td>\n",
       "      <td>3</td>\n",
       "    </tr>\n",
       "    <tr>\n",
       "      <th>3</th>\n",
       "      <td>VRSK</td>\n",
       "      <td>140.78</td>\n",
       "      <td>1.40</td>\n",
       "      <td>2</td>\n",
       "    </tr>\n",
       "    <tr>\n",
       "      <th>4</th>\n",
       "      <td>JD</td>\n",
       "      <td>40.91</td>\n",
       "      <td>0.41</td>\n",
       "      <td>5</td>\n",
       "    </tr>\n",
       "  </tbody>\n",
       "</table>\n",
       "</div>"
      ],
      "text/plain": [
       "  symbol    last  change  rank\n",
       "0   REGN  496.50    8.34     1\n",
       "1   INCY   74.18    0.95     4\n",
       "2   TMUS   85.13    1.23     3\n",
       "3   VRSK  140.78    1.40     2\n",
       "4     JD   40.91    0.41     5"
      ]
     },
     "execution_count": 7,
     "metadata": {},
     "output_type": "execute_result"
    }
   ],
   "source": [
    "# Load a proxy pandas dataframe for making changes \n",
    "proxy = arrow.proxy()\n",
    "proxy"
   ]
  },
  {
   "cell_type": "code",
   "execution_count": 8,
   "metadata": {},
   "outputs": [
    {
     "data": {
      "text/html": [
       "<div>\n",
       "<style scoped>\n",
       "    .dataframe tbody tr th:only-of-type {\n",
       "        vertical-align: middle;\n",
       "    }\n",
       "\n",
       "    .dataframe tbody tr th {\n",
       "        vertical-align: top;\n",
       "    }\n",
       "\n",
       "    .dataframe thead th {\n",
       "        text-align: right;\n",
       "    }\n",
       "</style>\n",
       "<table border=\"1\" class=\"dataframe\">\n",
       "  <thead>\n",
       "    <tr style=\"text-align: right;\">\n",
       "      <th></th>\n",
       "      <th>symbol</th>\n",
       "      <th>last</th>\n",
       "      <th>change</th>\n",
       "    </tr>\n",
       "    <tr>\n",
       "      <th>rank</th>\n",
       "      <th></th>\n",
       "      <th></th>\n",
       "      <th></th>\n",
       "    </tr>\n",
       "  </thead>\n",
       "  <tbody>\n",
       "    <tr>\n",
       "      <th>1</th>\n",
       "      <td>regn</td>\n",
       "      <td>496.50</td>\n",
       "      <td>8.34</td>\n",
       "    </tr>\n",
       "    <tr>\n",
       "      <th>4</th>\n",
       "      <td>incy</td>\n",
       "      <td>74.18</td>\n",
       "      <td>0.95</td>\n",
       "    </tr>\n",
       "    <tr>\n",
       "      <th>3</th>\n",
       "      <td>tmus</td>\n",
       "      <td>85.13</td>\n",
       "      <td>1.23</td>\n",
       "    </tr>\n",
       "    <tr>\n",
       "      <th>2</th>\n",
       "      <td>vrsk</td>\n",
       "      <td>140.78</td>\n",
       "      <td>1.40</td>\n",
       "    </tr>\n",
       "    <tr>\n",
       "      <th>5</th>\n",
       "      <td>jd</td>\n",
       "      <td>40.91</td>\n",
       "      <td>0.41</td>\n",
       "    </tr>\n",
       "  </tbody>\n",
       "</table>\n",
       "</div>"
      ],
      "text/plain": [
       "     symbol    last  change\n",
       "rank                       \n",
       "1      regn  496.50    8.34\n",
       "4      incy   74.18    0.95\n",
       "3      tmus   85.13    1.23\n",
       "2      vrsk  140.78    1.40\n",
       "5        jd   40.91    0.41"
      ]
     },
     "execution_count": 8,
     "metadata": {},
     "output_type": "execute_result"
    }
   ],
   "source": [
    "# Let's change the index to the rank column using standard pandas methods\n",
    "proxy = proxy.set_index('rank')\n",
    "# Let's also change the symbols column to lowercase\n",
    "proxy['symbol'] = proxy['symbol'].str.lower()\n",
    "proxy"
   ]
  },
  {
   "cell_type": "code",
   "execution_count": 9,
   "metadata": {},
   "outputs": [
    {
     "data": {
      "text/html": [
       "<div>\n",
       "<style scoped>\n",
       "    .dataframe tbody tr th:only-of-type {\n",
       "        vertical-align: middle;\n",
       "    }\n",
       "\n",
       "    .dataframe tbody tr th {\n",
       "        vertical-align: top;\n",
       "    }\n",
       "\n",
       "    .dataframe thead th {\n",
       "        text-align: right;\n",
       "    }\n",
       "</style>\n",
       "<table border=\"1\" class=\"dataframe\">\n",
       "  <thead>\n",
       "    <tr style=\"text-align: right;\">\n",
       "      <th></th>\n",
       "      <th>symbol</th>\n",
       "      <th>last</th>\n",
       "      <th>change</th>\n",
       "      <th>rank</th>\n",
       "    </tr>\n",
       "    <tr>\n",
       "      <th>rank</th>\n",
       "      <th></th>\n",
       "      <th></th>\n",
       "      <th></th>\n",
       "      <th></th>\n",
       "    </tr>\n",
       "  </thead>\n",
       "  <tbody>\n",
       "    <tr>\n",
       "      <th>1</th>\n",
       "      <td>REGN</td>\n",
       "      <td>496.50</td>\n",
       "      <td>8.34</td>\n",
       "      <td>1</td>\n",
       "    </tr>\n",
       "    <tr>\n",
       "      <th>4</th>\n",
       "      <td>INCY</td>\n",
       "      <td>74.18</td>\n",
       "      <td>0.95</td>\n",
       "      <td>4</td>\n",
       "    </tr>\n",
       "    <tr>\n",
       "      <th>3</th>\n",
       "      <td>TMUS</td>\n",
       "      <td>85.13</td>\n",
       "      <td>1.23</td>\n",
       "      <td>3</td>\n",
       "    </tr>\n",
       "    <tr>\n",
       "      <th>2</th>\n",
       "      <td>VRSK</td>\n",
       "      <td>140.78</td>\n",
       "      <td>1.40</td>\n",
       "      <td>2</td>\n",
       "    </tr>\n",
       "    <tr>\n",
       "      <th>5</th>\n",
       "      <td>JD</td>\n",
       "      <td>40.91</td>\n",
       "      <td>0.41</td>\n",
       "      <td>5</td>\n",
       "    </tr>\n",
       "  </tbody>\n",
       "</table>\n",
       "</div>"
      ],
      "text/plain": [
       "     symbol    last  change  rank\n",
       "rank                             \n",
       "1      REGN  496.50    8.34     1\n",
       "4      INCY   74.18    0.95     4\n",
       "3      TMUS   85.13    1.23     3\n",
       "2      VRSK  140.78    1.40     2\n",
       "5        JD   40.91    0.41     5"
      ]
     },
     "execution_count": 9,
     "metadata": {},
     "output_type": "execute_result"
    }
   ],
   "source": [
    "# Use proxy to set the arrow stage dataset index\n",
    "arrow.set_index(proxy)"
   ]
  },
  {
   "cell_type": "code",
   "execution_count": 10,
   "metadata": {
    "scrolled": false
   },
   "outputs": [
    {
     "data": {
      "text/html": [
       "<div>\n",
       "<style scoped>\n",
       "    .dataframe tbody tr th:only-of-type {\n",
       "        vertical-align: middle;\n",
       "    }\n",
       "\n",
       "    .dataframe tbody tr th {\n",
       "        vertical-align: top;\n",
       "    }\n",
       "\n",
       "    .dataframe thead th {\n",
       "        text-align: right;\n",
       "    }\n",
       "</style>\n",
       "<table border=\"1\" class=\"dataframe\">\n",
       "  <thead>\n",
       "    <tr style=\"text-align: right;\">\n",
       "      <th></th>\n",
       "      <th>symbol</th>\n",
       "      <th>last</th>\n",
       "      <th>change</th>\n",
       "    </tr>\n",
       "    <tr>\n",
       "      <th>rank</th>\n",
       "      <th></th>\n",
       "      <th></th>\n",
       "      <th></th>\n",
       "    </tr>\n",
       "  </thead>\n",
       "  <tbody>\n",
       "    <tr>\n",
       "      <th>1</th>\n",
       "      <td>regn</td>\n",
       "      <td>496.50</td>\n",
       "      <td>8.34</td>\n",
       "    </tr>\n",
       "    <tr>\n",
       "      <th>4</th>\n",
       "      <td>incy</td>\n",
       "      <td>74.18</td>\n",
       "      <td>0.95</td>\n",
       "    </tr>\n",
       "    <tr>\n",
       "      <th>3</th>\n",
       "      <td>tmus</td>\n",
       "      <td>85.13</td>\n",
       "      <td>1.23</td>\n",
       "    </tr>\n",
       "    <tr>\n",
       "      <th>2</th>\n",
       "      <td>vrsk</td>\n",
       "      <td>140.78</td>\n",
       "      <td>1.40</td>\n",
       "    </tr>\n",
       "    <tr>\n",
       "      <th>5</th>\n",
       "      <td>jd</td>\n",
       "      <td>40.91</td>\n",
       "      <td>0.41</td>\n",
       "    </tr>\n",
       "  </tbody>\n",
       "</table>\n",
       "</div>"
      ],
      "text/plain": [
       "     symbol    last  change\n",
       "rank                       \n",
       "1      regn  496.50    8.34\n",
       "4      incy   74.18    0.95\n",
       "3      tmus   85.13    1.23\n",
       "2      vrsk  140.78    1.40\n",
       "5        jd   40.91    0.41"
      ]
     },
     "execution_count": 10,
     "metadata": {},
     "output_type": "execute_result"
    }
   ],
   "source": [
    "# Drop the rank column from arrow stage dataset\n",
    "arrow.drop('rank', axis=1)\n",
    "# Update arrow dataset with proxy (changes will be detected)\n",
    "arrow.update(proxy)"
   ]
  },
  {
   "cell_type": "code",
   "execution_count": 11,
   "metadata": {},
   "outputs": [
    {
     "name": "stdout",
     "output_type": "stream",
     "text": [
      "[<deltaflow.operation.DropColumns object at 0x16D3F7F0>]\n",
      "[<deltaflow.operation.Update object at 0x142D0910>]\n"
     ]
    }
   ],
   "source": [
    "print(arrow.stack.layers[1].batch)\n",
    "print(arrow.stack.layers[2].batch)"
   ]
  },
  {
   "cell_type": "code",
   "execution_count": 12,
   "metadata": {},
   "outputs": [
    {
     "data": {
      "text/html": [
       "<div>\n",
       "<style scoped>\n",
       "    .dataframe tbody tr th:only-of-type {\n",
       "        vertical-align: middle;\n",
       "    }\n",
       "\n",
       "    .dataframe tbody tr th {\n",
       "        vertical-align: top;\n",
       "    }\n",
       "\n",
       "    .dataframe thead th {\n",
       "        text-align: right;\n",
       "    }\n",
       "</style>\n",
       "<table border=\"1\" class=\"dataframe\">\n",
       "  <thead>\n",
       "    <tr style=\"text-align: right;\">\n",
       "      <th></th>\n",
       "      <th>symbol</th>\n",
       "      <th>last</th>\n",
       "      <th>change</th>\n",
       "    </tr>\n",
       "    <tr>\n",
       "      <th>rank</th>\n",
       "      <th></th>\n",
       "      <th></th>\n",
       "      <th></th>\n",
       "    </tr>\n",
       "  </thead>\n",
       "  <tbody>\n",
       "    <tr>\n",
       "      <th>1</th>\n",
       "      <td>REGN</td>\n",
       "      <td>496.50</td>\n",
       "      <td>8.34</td>\n",
       "    </tr>\n",
       "    <tr>\n",
       "      <th>4</th>\n",
       "      <td>INCY</td>\n",
       "      <td>74.18</td>\n",
       "      <td>0.95</td>\n",
       "    </tr>\n",
       "    <tr>\n",
       "      <th>3</th>\n",
       "      <td>TMUS</td>\n",
       "      <td>85.13</td>\n",
       "      <td>1.23</td>\n",
       "    </tr>\n",
       "    <tr>\n",
       "      <th>2</th>\n",
       "      <td>VRSK</td>\n",
       "      <td>140.78</td>\n",
       "      <td>1.40</td>\n",
       "    </tr>\n",
       "    <tr>\n",
       "      <th>5</th>\n",
       "      <td>JD</td>\n",
       "      <td>40.91</td>\n",
       "      <td>0.41</td>\n",
       "    </tr>\n",
       "  </tbody>\n",
       "</table>\n",
       "</div>"
      ],
      "text/plain": [
       "     symbol    last  change\n",
       "rank                       \n",
       "1      REGN  496.50    8.34\n",
       "4      INCY   74.18    0.95\n",
       "3      TMUS   85.13    1.23\n",
       "2      VRSK  140.78    1.40\n",
       "5        JD   40.91    0.41"
      ]
     },
     "execution_count": 12,
     "metadata": {},
     "output_type": "execute_result"
    }
   ],
   "source": [
    "# Stage operations can also be undone\n",
    "arrow.undo()"
   ]
  },
  {
   "cell_type": "code",
   "execution_count": 13,
   "metadata": {},
   "outputs": [
    {
     "data": {
      "text/plain": [
       "[<deltaflow.arrow.Layer at 0x16c6a5d0>, <deltaflow.arrow.Layer at 0x16d3fed0>]"
      ]
     },
     "execution_count": 13,
     "metadata": {},
     "output_type": "execute_result"
    }
   ],
   "source": [
    "arrow.stack.layers"
   ]
  },
  {
   "cell_type": "code",
   "execution_count": 14,
   "metadata": {},
   "outputs": [
    {
     "name": "stdout",
     "output_type": "stream",
     "text": [
      "['DROP 1 COLUMNS(S)']\n"
     ]
    }
   ],
   "source": [
    "from deltaflow.delta import Delta\n",
    "from deltaflow.node import translate_make\n",
    "delta = Delta(arrow)\n",
    "print(translate_make(delta.make()))"
   ]
  },
  {
   "cell_type": "code",
   "execution_count": 15,
   "metadata": {},
   "outputs": [
    {
     "name": "stdout",
     "output_type": "stream",
     "text": [
      ".leaders -> 9858915fdec4c1dff6d092c57d7b70db0980dcca\n"
     ]
    }
   ],
   "source": [
    "# Commit changes (writes a delta object to field)\n",
    "#     notice that 'leaders' arrow now points to a new node ID\n",
    "arrow.commit()"
   ]
  },
  {
   "cell_type": "code",
   "execution_count": 16,
   "metadata": {},
   "outputs": [
    {
     "data": {
      "text/plain": [
       "leaders\n",
       "|- 21e694b44afa05a89922be03fa3291ab24153d1d\n",
       "|  |- 9858915fdec4c1dff6d092c57d7b70db0980dcca"
      ]
     },
     "execution_count": 16,
     "metadata": {},
     "output_type": "execute_result"
    }
   ],
   "source": [
    "# Now the tree will show two node ID's (one a child of the other)\n",
    "field.tree"
   ]
  },
  {
   "cell_type": "code",
   "execution_count": 17,
   "metadata": {},
   "outputs": [
    {
     "name": "stdout",
     "output_type": "stream",
     "text": [
      "ARROWS: {\n",
      "  .leaders -> 9858915fdec4c1dff6d092c57d7b70db0980dcca\n",
      "  myarrow -> 21e694b44afa05a89922be03fa3291ab24153d1d\n",
      "}\n",
      "leaders\n",
      "|- 21e694b44afa05a89922be03fa3291ab24153d1d\n",
      "|  |- 9858915fdec4c1dff6d092c57d7b70db0980dcca\n",
      "\n"
     ]
    }
   ],
   "source": [
    "# Let's make a new arrow referencing the origin node\n",
    "arrow = field.add_arrow('21e694b44afa05a89922be03fa3291ab24153d1d', name='myarrow')\n",
    "print(field.tree.arrows)\n",
    "print(field.tree)"
   ]
  },
  {
   "cell_type": "code",
   "execution_count": 18,
   "metadata": {},
   "outputs": [
    {
     "data": {
      "text/html": [
       "<div>\n",
       "<style scoped>\n",
       "    .dataframe tbody tr th:only-of-type {\n",
       "        vertical-align: middle;\n",
       "    }\n",
       "\n",
       "    .dataframe tbody tr th {\n",
       "        vertical-align: top;\n",
       "    }\n",
       "\n",
       "    .dataframe thead th {\n",
       "        text-align: right;\n",
       "    }\n",
       "</style>\n",
       "<table border=\"1\" class=\"dataframe\">\n",
       "  <thead>\n",
       "    <tr style=\"text-align: right;\">\n",
       "      <th></th>\n",
       "      <th>symbol</th>\n",
       "      <th>last</th>\n",
       "      <th>change</th>\n",
       "      <th>rank</th>\n",
       "    </tr>\n",
       "  </thead>\n",
       "  <tbody>\n",
       "    <tr>\n",
       "      <th>0</th>\n",
       "      <td>REGN</td>\n",
       "      <td>496.50</td>\n",
       "      <td>8.34</td>\n",
       "      <td>1</td>\n",
       "    </tr>\n",
       "    <tr>\n",
       "      <th>1</th>\n",
       "      <td>INCY</td>\n",
       "      <td>74.18</td>\n",
       "      <td>0.95</td>\n",
       "      <td>4</td>\n",
       "    </tr>\n",
       "    <tr>\n",
       "      <th>2</th>\n",
       "      <td>TMUS</td>\n",
       "      <td>85.13</td>\n",
       "      <td>1.23</td>\n",
       "      <td>3</td>\n",
       "    </tr>\n",
       "    <tr>\n",
       "      <th>3</th>\n",
       "      <td>VRSK</td>\n",
       "      <td>140.78</td>\n",
       "      <td>1.40</td>\n",
       "      <td>2</td>\n",
       "    </tr>\n",
       "    <tr>\n",
       "      <th>4</th>\n",
       "      <td>JD</td>\n",
       "      <td>40.91</td>\n",
       "      <td>0.41</td>\n",
       "      <td>5</td>\n",
       "    </tr>\n",
       "  </tbody>\n",
       "</table>\n",
       "</div>"
      ],
      "text/plain": [
       "  symbol    last  change  rank\n",
       "0   REGN  496.50    8.34     1\n",
       "1   INCY   74.18    0.95     4\n",
       "2   TMUS   85.13    1.23     3\n",
       "3   VRSK  140.78    1.40     2\n",
       "4     JD   40.91    0.41     5"
      ]
     },
     "execution_count": 18,
     "metadata": {},
     "output_type": "execute_result"
    }
   ],
   "source": [
    "# By loading 'myarrow', we see the original dataset, unaltered\n",
    "arrow = field.arrow('myarrow')\n",
    "proxy = arrow.proxy()\n",
    "proxy"
   ]
  },
  {
   "cell_type": "code",
   "execution_count": 19,
   "metadata": {},
   "outputs": [
    {
     "data": {
      "text/html": [
       "<div>\n",
       "<style scoped>\n",
       "    .dataframe tbody tr th:only-of-type {\n",
       "        vertical-align: middle;\n",
       "    }\n",
       "\n",
       "    .dataframe tbody tr th {\n",
       "        vertical-align: top;\n",
       "    }\n",
       "\n",
       "    .dataframe thead th {\n",
       "        text-align: right;\n",
       "    }\n",
       "</style>\n",
       "<table border=\"1\" class=\"dataframe\">\n",
       "  <thead>\n",
       "    <tr style=\"text-align: right;\">\n",
       "      <th></th>\n",
       "      <th>symbol</th>\n",
       "      <th>last</th>\n",
       "      <th>change</th>\n",
       "      <th>rank</th>\n",
       "      <th>buy/sell</th>\n",
       "    </tr>\n",
       "  </thead>\n",
       "  <tbody>\n",
       "    <tr>\n",
       "      <th>0</th>\n",
       "      <td>REGN</td>\n",
       "      <td>496.50</td>\n",
       "      <td>8.34</td>\n",
       "      <td>1</td>\n",
       "      <td>BUY</td>\n",
       "    </tr>\n",
       "    <tr>\n",
       "      <th>1</th>\n",
       "      <td>INCY</td>\n",
       "      <td>74.18</td>\n",
       "      <td>0.95</td>\n",
       "      <td>4</td>\n",
       "      <td>SELL</td>\n",
       "    </tr>\n",
       "    <tr>\n",
       "      <th>2</th>\n",
       "      <td>TMUS</td>\n",
       "      <td>85.13</td>\n",
       "      <td>1.23</td>\n",
       "      <td>3</td>\n",
       "      <td>SELL</td>\n",
       "    </tr>\n",
       "    <tr>\n",
       "      <th>3</th>\n",
       "      <td>VRSK</td>\n",
       "      <td>140.78</td>\n",
       "      <td>1.40</td>\n",
       "      <td>2</td>\n",
       "      <td>BUY</td>\n",
       "    </tr>\n",
       "    <tr>\n",
       "      <th>4</th>\n",
       "      <td>JD</td>\n",
       "      <td>40.91</td>\n",
       "      <td>0.41</td>\n",
       "      <td>5</td>\n",
       "      <td>SELL</td>\n",
       "    </tr>\n",
       "  </tbody>\n",
       "</table>\n",
       "</div>"
      ],
      "text/plain": [
       "  symbol    last  change  rank buy/sell\n",
       "0   REGN  496.50    8.34     1      BUY\n",
       "1   INCY   74.18    0.95     4     SELL\n",
       "2   TMUS   85.13    1.23     3     SELL\n",
       "3   VRSK  140.78    1.40     2      BUY\n",
       "4     JD   40.91    0.41     5     SELL"
      ]
     },
     "execution_count": 19,
     "metadata": {},
     "output_type": "execute_result"
    }
   ],
   "source": [
    "# Stage some new changes\n",
    "buy_sell = pandas.Series(['BUY', 'SELL', 'SELL', 'BUY', 'SELL'])\n",
    "proxy.insert(4, 'buy/sell', buy_sell)\n",
    "arrow.extend(proxy)\n",
    "arrow.proxy()"
   ]
  },
  {
   "cell_type": "code",
   "execution_count": 20,
   "metadata": {},
   "outputs": [
    {
     "name": "stdout",
     "output_type": "stream",
     "text": [
      "myarrow -> 0317403a6b408037a36935e2d048adf978a7d2a9\n",
      "myarrow -> 0317403a6b408037a36935e2d048adf978a7d2a9\n"
     ]
    },
    {
     "data": {
      "text/plain": [
       "leaders\n",
       "|- 21e694b44afa05a89922be03fa3291ab24153d1d\n",
       "|  |- 9858915fdec4c1dff6d092c57d7b70db0980dcca\n",
       "|  |- 0317403a6b408037a36935e2d048adf978a7d2a9"
      ]
     },
     "execution_count": 20,
     "metadata": {},
     "output_type": "execute_result"
    }
   ],
   "source": [
    "# Commit and check the resultant tree structure\n",
    "arrow.commit()\n",
    "print(arrow)\n",
    "field.tree"
   ]
  }
 ],
 "metadata": {
  "kernelspec": {
   "display_name": "deltaflow-testing",
   "language": "python",
   "name": "deltaflow-testing"
  },
  "language_info": {
   "codemirror_mode": {
    "name": "ipython",
    "version": 3
   },
   "file_extension": ".py",
   "mimetype": "text/x-python",
   "name": "python",
   "nbconvert_exporter": "python",
   "pygments_lexer": "ipython3",
   "version": "3.7.3"
  }
 },
 "nbformat": 4,
 "nbformat_minor": 4
}
